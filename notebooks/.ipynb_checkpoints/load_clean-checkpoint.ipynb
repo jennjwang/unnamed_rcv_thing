{
 "cells": [
  {
   "cell_type": "markdown",
   "metadata": {},
   "source": [
    "This is a tutorial on loading in an election dataset and cleaning ballots.\n"
   ]
  },
  {
   "cell_type": "code",
   "execution_count": null,
   "metadata": {},
   "outputs": [],
   "source": [
    "from votekit.cvr_loaders import load_blt\n",
    "import votekit.cleaning as clean"
   ]
  },
  {
   "cell_type": "markdown",
   "metadata": {},
   "source": [
    "Let's first load in our cvr into a preference profile\n"
   ]
  },
  {
   "cell_type": "code",
   "execution_count": null,
   "metadata": {},
   "outputs": [],
   "source": [
    "# need to make the scottish election data importable\n",
    "\n",
    "pp, seats = load_blt(\"...\")"
   ]
  },
  {
   "cell_type": "markdown",
   "metadata": {},
   "source": [
    "Now we can clean the ballots from this election.\n"
   ]
  },
  {
   "cell_type": "markdown",
   "metadata": {},
   "source": [
    "If we want to remove a candidate, we can call remove_noncands() from the package as shown below.\n"
   ]
  },
  {
   "cell_type": "code",
   "execution_count": null,
   "metadata": {},
   "outputs": [],
   "source": [
    "\n",
    "cleaned_pp = clean.remove_noncands(pp, [\"Graham HUTCHISON (C)\"])"
   ]
  },
  {
   "cell_type": "markdown",
   "metadata": {},
   "source": [
    "We can also write our own cleaning rule with the helper function clean_profile(). The following example is a cleaning rule truncates the ballot to n-ranks.\n"
   ]
  },
  {
   "cell_type": "code",
   "execution_count": null,
   "metadata": {},
   "outputs": [],
   "source": [
    "from votekit.cleaning import clean_profile\n",
    "from votekit.pref_profile import PreferenceProfile\n",
    "from votekit.ballot import Ballot\n",
    "\n",
    "\n",
    "def truncate(n: int, pp: PreferenceProfile):\n",
    "    def truncate_ballot(ballot: Ballot):\n",
    "        return Ballot(ranking=ballot.ranking[:n], weight=ballot.weight)\n",
    "\n",
    "    pp_clean = clean_profile(pp=pp, clean_ballot_func=truncate_ballot)\n",
    "    return pp_clean"
   ]
  },
  {
   "cell_type": "code",
   "execution_count": null,
   "metadata": {},
   "outputs": [],
   "source": [
    "cleaned_pp = truncate(n=3, pp=pp)"
   ]
  },
  {
   "cell_type": "markdown",
   "metadata": {},
   "source": [
    "Our preference profile is now cleaned, and we can save it as an csv for future use.\n"
   ]
  },
  {
   "cell_type": "code",
   "execution_count": null,
   "metadata": {},
   "outputs": [],
   "source": [
    "cleaned_pp.to_csv('path/to/save')"
   ]
  }
 ],
 "metadata": {
  "kernelspec": {
   "display_name": "Python 3 (ipykernel)",
   "language": "python",
   "name": "python3"
  },
  "language_info": {
   "codemirror_mode": {
    "name": "ipython",
    "version": 3
   },
   "file_extension": ".py",
   "mimetype": "text/x-python",
   "name": "python",
   "nbconvert_exporter": "python",
   "pygments_lexer": "ipython3",
   "version": "3.9.12"
  }
 },
 "nbformat": 4,
 "nbformat_minor": 2
}
